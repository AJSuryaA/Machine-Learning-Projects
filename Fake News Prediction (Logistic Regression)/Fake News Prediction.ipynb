version https://git-lfs.github.com/spec/v1
oid sha256:ddec8117b18a4f8477168375a3d742b0f780b272b8be528a5d38873f93592650
size 22506
