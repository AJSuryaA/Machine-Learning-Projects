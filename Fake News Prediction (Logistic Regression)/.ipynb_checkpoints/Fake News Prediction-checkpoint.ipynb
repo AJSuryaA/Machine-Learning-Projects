{
 "cells": [
  {
   "cell_type": "code",
   "execution_count": 1,
   "id": "bee6a3d9",
   "metadata": {},
   "outputs": [],
   "source": [
    "import numpy as np, pandas as pd, matplotlib.pyplot as plt, seaborn as sns, warnings\n",
    "warnings.filterwarnings('ignore')\n",
    "\n",
    "import re # regular expression\n",
    "from nltk.corpus import stopwords # it will find unwanted words or words than not add any value like articles, a, an, the etc.... \n",
    "from nltk.stem.porter import PorterStemmer # it will give us the root word \n",
    "from sklearn.feature_extraction.text import TfidfVectorizer # converts text into features\n",
    "from sklearn.linear_model import LogisticRegression \n",
    "from sklearn.model_selection import train_test_split\n",
    "from sklearn.metrics import accuracy_score\n",
    "\n",
    "# nltk - natural language tool kit"
   ]
  },
  {
   "cell_type": "markdown",
   "id": "60c58fb4",
   "metadata": {},
   "source": [
    "### "
   ]
  }
 ],
 "metadata": {
  "kernelspec": {
   "display_name": "Python 3 (ipykernel)",
   "language": "python",
   "name": "python3"
  },
  "language_info": {
   "codemirror_mode": {
    "name": "ipython",
    "version": 3
   },
   "file_extension": ".py",
   "mimetype": "text/x-python",
   "name": "python",
   "nbconvert_exporter": "python",
   "pygments_lexer": "ipython3",
   "version": "3.11.5"
  }
 },
 "nbformat": 4,
 "nbformat_minor": 5
}
