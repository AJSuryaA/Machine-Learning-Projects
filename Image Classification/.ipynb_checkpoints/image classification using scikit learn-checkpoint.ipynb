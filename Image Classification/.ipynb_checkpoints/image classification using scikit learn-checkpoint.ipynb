version https://git-lfs.github.com/spec/v1
oid sha256:933917636051ab28de56dc726507676335487b3eb7acda6e9ce80f1bf7e8e411
size 1367599
