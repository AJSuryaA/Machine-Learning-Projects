version https://git-lfs.github.com/spec/v1
oid sha256:19477fd78929189d280b67f1166deb5ce478b4b4b2bd1b5392c1b6661179f6e3
size 1125791
