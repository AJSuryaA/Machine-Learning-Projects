version https://git-lfs.github.com/spec/v1
oid sha256:e2c45f7adb4d9fcf6b52496f0627a169e2f678cc8e85a8084762820df2760052
size 478053
